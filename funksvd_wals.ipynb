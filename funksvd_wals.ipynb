{
 "cells": [
  {
   "cell_type": "markdown",
   "id": "c448760f",
   "metadata": {},
   "source": [
    "# Setup"
   ]
  },
  {
   "cell_type": "code",
   "execution_count": 1,
   "id": "fd7135db",
   "metadata": {},
   "outputs": [],
   "source": [
    "import numpy as np\n",
    "import pandas as pd\n",
    "import numpy.linalg as linalg\n",
    "import matplotlib.pyplot as plt\n",
    "from collections import defaultdict\n",
    "from sklearn.model_selection import train_test_split"
   ]
  },
  {
   "cell_type": "code",
   "execution_count": 2,
   "id": "ef6f814e",
   "metadata": {},
   "outputs": [
    {
     "name": "stdout",
     "output_type": "stream",
     "text": [
      "   userId  movieId  rating  timestamp\n",
      "0     196      242       3  881250949\n",
      "1     186      302       3  891717742\n",
      "2      22      377       1  878887116\n",
      "3     244       51       2  880606923\n",
      "4     166      346       1  886397596\n"
     ]
    }
   ],
   "source": [
    "df = pd.read_csv(\"data/ml-100k/u.data\",\n",
    "                 sep=\"\\t\",\n",
    "                 names=[\"userId\",\"movieId\",\"rating\",\"timestamp\"],\n",
    "                 engine=\"python\")\n",
    "print(df.head())\n"
   ]
  },
  {
   "cell_type": "code",
   "execution_count": 3,
   "id": "b666dfc9",
   "metadata": {},
   "outputs": [],
   "source": [
    "from hyper_param_search import grid_search_funksvd"
   ]
  },
  {
   "cell_type": "markdown",
   "id": "2eb33c48",
   "metadata": {},
   "source": [
    "# Hyper parameter search"
   ]
  },
  {
   "cell_type": "code",
   "execution_count": 4,
   "id": "f6986ee9",
   "metadata": {},
   "outputs": [
    {
     "name": "stdout",
     "output_type": "stream",
     "text": [
      "✔️ Grid search done, results saved to 'hyperparam_results.csv'\n",
      "      lr  lambda   K  train_rmse  val_rmse\n",
      "23  0.01   0.010  50    0.758847  0.931545\n",
      "20  0.01   0.001  50    0.731139  0.934917\n",
      "22  0.01   0.010  20    0.812454  0.936460\n",
      "19  0.01   0.001  20    0.792469  0.938638\n",
      "21  0.01   0.010  10    0.841406  0.942966\n"
     ]
    }
   ],
   "source": [
    "lr_candidates     = [0.001, 0.005, 0.01]\n",
    "lambda_candidates = [0.001, 0.01, 0.1]\n",
    "K_candidates      = [10, 20, 50]\n",
    "results = grid_search_funksvd(df,\n",
    "                              lr_candidates,\n",
    "                              lambda_candidates,\n",
    "                              K_candidates,\n",
    "                              n_epochs=20)\n",
    "print(results.sort_values('val_rmse').head())"
   ]
  },
  {
   "cell_type": "markdown",
   "id": "2caad1de",
   "metadata": {},
   "source": [
    "# Model Optimized with ALS"
   ]
  },
  {
   "cell_type": "code",
   "execution_count": 4,
   "id": "8ad29a04",
   "metadata": {},
   "outputs": [
    {
     "name": "stdout",
     "output_type": "stream",
     "text": [
      "Epoch 01/20 — Train RMSE: 0.9122, Test RMSE:  4.8599\n",
      "Epoch 02/20 — Train RMSE: 0.4431, Test RMSE:  2.0708\n",
      "Epoch 03/20 — Train RMSE: 0.3549, Test RMSE:  1.8295\n",
      "Epoch 04/20 — Train RMSE: 0.3132, Test RMSE:  1.8020\n",
      "Epoch 05/20 — Train RMSE: 0.2876, Test RMSE:  1.8296\n",
      "Epoch 06/20 — Train RMSE: 0.2700, Test RMSE:  1.8491\n",
      "Epoch 07/20 — Train RMSE: 0.2568, Test RMSE:  1.8738\n",
      "Epoch 08/20 — Train RMSE: 0.2462, Test RMSE:  1.8952\n",
      "Epoch 09/20 — Train RMSE: 0.2374, Test RMSE:  1.9233\n",
      "Epoch 10/20 — Train RMSE: 0.2301, Test RMSE:  1.9447\n",
      "Epoch 11/20 — Train RMSE: 0.2239, Test RMSE:  1.9547\n",
      "Epoch 12/20 — Train RMSE: 0.2183, Test RMSE:  1.9795\n",
      "Epoch 13/20 — Train RMSE: 0.2134, Test RMSE:  2.0060\n",
      "Epoch 14/20 — Train RMSE: 0.2090, Test RMSE:  2.0237\n",
      "Epoch 15/20 — Train RMSE: 0.2050, Test RMSE:  2.0397\n",
      "Epoch 16/20 — Train RMSE: 0.2014, Test RMSE:  2.0556\n",
      "Epoch 17/20 — Train RMSE: 0.1981, Test RMSE:  2.0731\n",
      "Epoch 18/20 — Train RMSE: 0.1950, Test RMSE:  2.0900\n",
      "Epoch 19/20 — Train RMSE: 0.1922, Test RMSE:  2.1096\n",
      "Epoch 20/20 — Train RMSE: 0.1896, Test RMSE:  2.1274\n"
     ]
    }
   ],
   "source": [
    "# 1. DATA PREPARATION -------------------------------------------\n",
    "# keep only the three columns we need\n",
    "df = df[['userId','movieId','rating']]\n",
    "\n",
    "# map original user/movie IDs to 0-based indices\n",
    "user_ids = df['userId'].unique()\n",
    "movie_ids = df['movieId'].unique()\n",
    "u2idx = {u:i for i,u in enumerate(user_ids)}\n",
    "i2idx = {m:i for i,m in enumerate(movie_ids)}\n",
    "n_users, n_items = len(user_ids), len(movie_ids)\n",
    "\n",
    "# split into 80% train, 20% test\n",
    "train_df, test_df = train_test_split(df, test_size=0.2, random_state=42)\n",
    "\n",
    "# build list of (u_idx, i_idx, rating) for train and test\n",
    "train_samples = [\n",
    "    (u2idx[u], i2idx[m], r)\n",
    "    for u, m, r in zip(train_df.userId, train_df.movieId, train_df.rating)\n",
    "]\n",
    "# for test, drop any (u,m) not seen in train\n",
    "test_samples = []\n",
    "for u, m, r in zip(test_df.userId, test_df.movieId, test_df.rating):\n",
    "    u_idx = u2idx.get(u, None)\n",
    "    i_idx = i2idx.get(m, None)\n",
    "    if u_idx is not None and i_idx is not None:\n",
    "        test_samples.append((u_idx, i_idx, r))\n",
    "\n",
    "# 2. PARAMETER INITIALIZATION ----------------------------------\n",
    "K        = 50      # number of latent factors\n",
    "lr       = 0.01   # learning rate γ\n",
    "lmbda    = 0.01    # regularization λ\n",
    "n_epochs = 20      # number of SGD passes\n",
    "\n",
    "# randomly initialize P (users) and Q (items)\n",
    "P = np.random.normal(scale=0.01, size=(n_users, K))\n",
    "Q = np.random.normal(scale=0.01, size=(n_items, K))\n",
    "\n",
    "# Preprocess: build rating dicts for fast lookup\n",
    "user_ratings = defaultdict(list)\n",
    "item_ratings = defaultdict(list)\n",
    "for u, i, r in train_samples:\n",
    "    user_ratings[u].append((i, r))\n",
    "    item_ratings[i].append((u, r))\n",
    "\n",
    "# 3. ALS TRAINING ----------------------------------------------\n",
    "\n",
    "train_rmse_list = []\n",
    "test_rmse_list = []\n",
    "\n",
    "for epoch in range(1, n_epochs + 1):\n",
    "    # === Update user factors P ===\n",
    "    for u in range(n_users):\n",
    "        rated_items = user_ratings[u]\n",
    "        if not rated_items:\n",
    "            continue\n",
    "        A = np.zeros((K, K))\n",
    "        b = np.zeros(K)\n",
    "        for i, r_ui in rated_items:\n",
    "            q_i = Q[i]\n",
    "            A += np.outer(q_i, q_i)\n",
    "            b += r_ui * q_i\n",
    "        A += lmbda * np.eye(K)\n",
    "        P[u] = linalg.solve(A, b)\n",
    "\n",
    "    # === Update item factors Q ===\n",
    "    for i in range(n_items):\n",
    "        rated_by_users = item_ratings[i]\n",
    "        if not rated_by_users:\n",
    "            continue\n",
    "        A = np.zeros((K, K))\n",
    "        b = np.zeros(K)\n",
    "        for u, r_ui in rated_by_users:\n",
    "            p_u = P[u]\n",
    "            A += np.outer(p_u, p_u)\n",
    "            b += r_ui * p_u\n",
    "        A += lmbda * np.eye(K)\n",
    "        Q[i] = linalg.solve(A, b)\n",
    "\n",
    "    # === Evaluate RMSE ===\n",
    "    train_se = sum((r - P[u].dot(Q[i]))**2 for u, i, r in train_samples)\n",
    "    train_rmse = np.sqrt(train_se / len(train_samples))\n",
    "\n",
    "    test_se = sum((r - P[u].dot(Q[i]))**2 for u, i, r in test_samples)\n",
    "    test_rmse = np.sqrt(test_se / len(test_samples))\n",
    "\n",
    "    train_rmse_list.append(train_rmse)\n",
    "    test_rmse_list.append(test_rmse)\n",
    "\n",
    "\n",
    "    print(f\"Epoch {epoch:02d}/{n_epochs} — \"\n",
    "          f\"Train RMSE: {train_rmse:.4f}, \"\n",
    "          f\"Test RMSE:  {test_rmse:.4f}\")\n"
   ]
  },
  {
   "cell_type": "markdown",
   "id": "a8bdb8e7",
   "metadata": {},
   "source": [
    "# Training Curve"
   ]
  },
  {
   "cell_type": "code",
   "execution_count": 5,
   "id": "5efcdfd2",
   "metadata": {},
   "outputs": [
    {
     "data": {
      "image/png": "[encoded data removed]",
      "text/plain": [
       "<Figure size 640x480 with 1 Axes>"
      ]
     },
     "metadata": {},
     "output_type": "display_data"
    }
   ],
   "source": [
    "# 📊 Plot RMSE curves\n",
    "plt.plot(range(1, n_epochs + 1), train_rmse_list, label='Train RMSE')\n",
    "plt.plot(range(1, n_epochs + 1), test_rmse_list, label='Test RMSE')\n",
    "plt.xlabel(\"Epoch\")\n",
    "plt.ylabel(\"RMSE\")\n",
    "plt.title(\"ALS Training Curve\")\n",
    "plt.legend()\n",
    "plt.grid(True)\n",
    "plt.show()\n"
   ]
  }
 ],
 "metadata": {
  "kernelspec": {
   "display_name": "base",
   "language": "python",
   "name": "python3"
  },
  "language_info": {
   "codemirror_mode": {
    "name": "ipython",
    "version": 3
   },
   "file_extension": ".py",
   "mimetype": "text/x-python",
   "name": "python",
   "nbconvert_exporter": "python",
   "pygments_lexer": "ipython3",
   "version": "3.12.7"
  }
 },
 "nbformat": 4,
 "nbformat_minor": 5
}
